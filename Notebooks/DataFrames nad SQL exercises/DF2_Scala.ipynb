{
 "cells": [
  {
   "cell_type": "code",
   "execution_count": 22,
   "metadata": {},
   "outputs": [
    {
     "data": {
      "text/plain": [
       "import org.apache.spark.sql._\n",
       "import spark.implicits._\n"
      ]
     },
     "execution_count": 22,
     "metadata": {},
     "output_type": "execute_result"
    }
   ],
   "source": [
    "import org.apache.spark.sql._\n",
    "import spark.implicits._"
   ]
  },
  {
   "cell_type": "code",
   "execution_count": 33,
   "metadata": {},
   "outputs": [
    {
     "data": {
      "text/plain": [
       "col_names: List[String] = List(age, workclass, fnlwgt, education, education-num, marital-status, occupation, relationship, race, sex, capital-gain, capital-loss, hours-per-week, native-country, earnings)\n"
      ]
     },
     "execution_count": 33,
     "metadata": {},
     "output_type": "execute_result"
    }
   ],
   "source": [
    "val col_names = List(\"age\", \"workclass\", \"fnlwgt\", \"education\", \"education-num\",\"marital-status\", \"occupation\", \n",
    "             \"relationship\", \"race\", \"sex\", \"capital-gain\", \"capital-loss\", \"hours-per-week\", \n",
    "             \"native-country\", \"earnings\")"
   ]
  },
  {
   "cell_type": "code",
   "execution_count": 49,
   "metadata": {},
   "outputs": [
    {
     "data": {
      "text/plain": [
       "data: org.apache.spark.sql.DataFrame = [_c0: int, _c1: string ... 13 more fields]\n"
      ]
     },
     "execution_count": 49,
     "metadata": {},
     "output_type": "execute_result"
    }
   ],
   "source": [
    "val data = spark.read.options(\n",
    "Map(\"header\" -> \"false\", \"inferSchema\" -> \"true\", \"ignoreLeadingWhiteSpace\" -> \"true\")\n",
    ").csv(\"adult.data\")"
   ]
  },
  {
   "cell_type": "code",
   "execution_count": 64,
   "metadata": {},
   "outputs": [
    {
     "name": "stdout",
     "output_type": "stream",
     "text": [
      "-RECORD 0----------------------------\n",
      " age            | 39                 \n",
      " workclass      | State-gov          \n",
      " education      | Bachelors          \n",
      " education-num  | 13                 \n",
      " marital-status | Never-married      \n",
      " occupation     | Adm-clerical       \n",
      " relationship   | Not-in-family      \n",
      " race           | White              \n",
      " sex            | Male               \n",
      " capital-gain   | 2174               \n",
      " capital-loss   | 0                  \n",
      " hours-per-week | 40                 \n",
      " native-country | United-States      \n",
      " earnings       | <=50K              \n",
      "-RECORD 1----------------------------\n",
      " age            | 50                 \n",
      " workclass      | Self-emp-not-inc   \n",
      " education      | Bachelors          \n",
      " education-num  | 13                 \n",
      " marital-status | Married-civ-spouse \n",
      " occupation     | Exec-managerial    \n",
      " relationship   | Husband            \n",
      " race           | White              \n",
      " sex            | Male               \n",
      " capital-gain   | 0                  \n",
      " capital-loss   | 0                  \n",
      " hours-per-week | 13                 \n",
      " native-country | United-States      \n",
      " earnings       | <=50K              \n",
      "only showing top 2 rows\n",
      "\n"
     ]
    },
    {
     "data": {
      "text/plain": [
       "column_replacing: Array[org.apache.spark.sql.Column] = Array(_c0 AS `age`, _c1 AS `workclass`, _c2 AS `fnlwgt`, _c3 AS `education`, _c4 AS `education-num`, _c5 AS `marital-status`, _c6 AS `occupation`, _c7 AS `relationship`, _c8 AS `race`, _c9 AS `sex`, _c10 AS `capital-gain`, _c11 AS `capital-loss`, _c12 AS `hours-per-week`, _c13 AS `native-country`, _c14 AS `earnings`)\n",
       "df: org.apache.spark.sql.DataFrame = [age: int, workclass: string ... 12 more fields]\n"
      ]
     },
     "execution_count": 64,
     "metadata": {},
     "output_type": "execute_result"
    }
   ],
   "source": [
    "val column_replacing = data.columns.zip(col_names).map{case (old, nevv) => col(old).alias(nevv)}\n",
    "var df = data.select(column_replacing: _*).drop(col(\"fnlwgt\")).na.drop(\"any\")\n",
    "\n",
    "df.show(2,1000, true)\n",
    "\n",
    "//Other technic\n",
    "//df.toDF(col_names: _*).drop(col(\"fnlwgt\")).na.drop(\"any\").show(3,1000, true)"
   ]
  },
  {
   "cell_type": "markdown",
   "metadata": {},
   "source": [
    "> **ZADANIA**:\n",
    "1. Oblicz średnią `capital-gain` oraz `capital-loss` dla każdej narodowości - wynik uporządkuj malejąco po średnim zysku\n",
    "2. Oblicz jaki procent kobiet zarabia ponad 50K w podziale na wykształcenie - wynik zaokrąglij do 2 miejsc po przecinku\n",
    "3. Oblicz ile godzin średnio w ciągu tygodnia pracują osoby `Never-married` w stosunku do reszty społeczeństwa\n",
    "4. W jakim wieku najczęściej zarabia sie powyżej 50K?\n",
    "5. W podziale ze względu na zmienną `race` oblicz stosunek liczby kobiet do mężczyzn\n",
    "6. Oblicz różnicę pomiędzy średnim czasem pracy osób uzyskujących `capital-gain` a resztą populacji\n",
    "7. Oblicz róznicę wieku do średniego wieku osób z danym poziomem wykształcenia"
   ]
  },
  {
   "cell_type": "code",
   "execution_count": 62,
   "metadata": {},
   "outputs": [],
   "source": [
    "df.createOrReplaceTempView(\"df\")"
   ]
  },
  {
   "cell_type": "code",
   "execution_count": 73,
   "metadata": {},
   "outputs": [
    {
     "name": "stdout",
     "output_type": "stream",
     "text": [
      "+------------------+------------------+------------------+\n",
      "|    native-country|  Avg_capital_gain|  Avg_capital_loss|\n",
      "+------------------+------------------+------------------+\n",
      "|             India|           3604.92|            131.12|\n",
      "|             Japan|2546.2258064516127| 57.53225806451613|\n",
      "|            Taiwan|2147.0392156862745| 154.8235294117647|\n",
      "|              Iran|2044.6511627906978|126.81395348837209|\n",
      "|             South|         1869.7375|           169.425|\n",
      "|                 ?|1806.5180102915951|118.26586620926244|\n",
      "|            Canada|1504.1322314049587|129.93388429752065|\n",
      "|Dominican-Republic| 1476.057142857143| 25.17142857142857|\n",
      "|            Greece| 1283.896551724138|295.44827586206895|\n",
      "|     United-States|1089.2299280082277| 88.51059307507714|\n",
      "|          Cambodia| 1027.842105263158|183.05263157894737|\n",
      "|       Philippines|1018.3434343434343| 98.95454545454545|\n",
      "|           Germany| 887.0948905109489| 77.97810218978103|\n",
      "|           England| 864.7222222222222| 82.75555555555556|\n",
      "|           Hungary| 716.6153846153846|128.30769230769232|\n",
      "|            Poland| 684.2833333333333| 34.18333333333333|\n",
      "|           Vietnam| 660.5970149253732| 87.29850746268657|\n",
      "|             Italy| 611.5068493150685| 27.08219178082192|\n",
      "|       El-Salvador| 574.3207547169811| 31.11320754716981|\n",
      "|            France| 547.0344827586207|               0.0|\n",
      "+------------------+------------------+------------------+\n",
      "only showing top 20 rows\n",
      "\n"
     ]
    }
   ],
   "source": [
    "//1\n",
    "df.groupBy(\"native-country\").agg(avg(\"capital-gain\").as(\"Avg_capital_gain\"),\n",
    "                                avg(\"capital-loss\").as(\"Avg_capital_loss\")\n",
    "                                ).orderBy(col(\"Avg_capital_gain\").desc_nulls_last).show()"
   ]
  },
  {
   "cell_type": "code",
   "execution_count": 94,
   "metadata": {},
   "outputs": [
    {
     "name": "stdout",
     "output_type": "stream",
     "text": [
      "+------------+-------+\n",
      "|   education|percent|\n",
      "+------------+-------+\n",
      "|     Masters|   0.33|\n",
      "|        10th|   0.01|\n",
      "|     5th-6th|   0.02|\n",
      "|  Assoc-acdm|   0.13|\n",
      "|   Assoc-voc|   0.13|\n",
      "|     7th-8th|   0.01|\n",
      "|         9th|   0.03|\n",
      "|     HS-grad|   0.07|\n",
      "|   Bachelors|   0.21|\n",
      "|        11th|   0.02|\n",
      "|     1st-4th|    0.0|\n",
      "|   Preschool|    0.0|\n",
      "|        12th|   0.03|\n",
      "|   Doctorate|   0.58|\n",
      "|Some-college|   0.07|\n",
      "| Prof-school|   0.46|\n",
      "+------------+-------+\n",
      "\n"
     ]
    }
   ],
   "source": [
    "//2\n",
    "df.filter($\"sex\" === \"Female\").withColumn(\"earnings_flag\", when($\"earnings\" === \">50K\", 1).otherwise(0)\n",
    "                                         ).groupBy(\"education\").agg(round(avg(\"earnings_flag\"), 2).as(\"percent\")).show()"
   ]
  },
  {
   "cell_type": "code",
   "execution_count": 93,
   "metadata": {},
   "outputs": [
    {
     "name": "stdout",
     "output_type": "stream",
     "text": [
      "+------------+-------+\n",
      "|   education|percent|\n",
      "+------------+-------+\n",
      "|     Masters|   0.33|\n",
      "|        10th|   0.01|\n",
      "|     5th-6th|   0.02|\n",
      "|  Assoc-acdm|   0.13|\n",
      "|   Assoc-voc|   0.13|\n",
      "|     7th-8th|   0.01|\n",
      "|         9th|   0.03|\n",
      "|     HS-grad|   0.07|\n",
      "|   Bachelors|   0.21|\n",
      "|        11th|   0.02|\n",
      "|     1st-4th|    0.0|\n",
      "|   Preschool|    0.0|\n",
      "|        12th|   0.03|\n",
      "|   Doctorate|   0.58|\n",
      "|Some-college|   0.07|\n",
      "| Prof-school|   0.46|\n",
      "+------------+-------+\n",
      "\n"
     ]
    },
    {
     "data": {
      "text/plain": [
       "q1: String =\n",
       "(select education, round(avg(earnings), 2) percent from\n",
       "     (select sex, education, case when earnings = '>50K' then 1 else 0 end earnings from df where sex = 'Female')\n",
       "      group by education)\n"
      ]
     },
     "execution_count": 93,
     "metadata": {},
     "output_type": "execute_result"
    }
   ],
   "source": [
    "//2 sql approach\n",
    "val q1 = \"\"\"(select education, round(avg(earnings), 2) percent from \n",
    "     (select sex, education, case when earnings = '>50K' then 1 else 0 end earnings from df where sex = 'Female')\n",
    "      group by education)\"\"\"\n",
    "spark.sql(q1).show()"
   ]
  },
  {
   "cell_type": "code",
   "execution_count": 103,
   "metadata": {},
   "outputs": [
    {
     "name": "stdout",
     "output_type": "stream",
     "text": [
      "+-------------+-------------------+\n",
      "|         flag|avg(hours-per-week)|\n",
      "+-------------+-------------------+\n",
      "|Never-married|   36.9399981278667|\n",
      "|         Rest|  42.14526007861779|\n",
      "+-------------+-------------------+\n",
      "\n"
     ]
    }
   ],
   "source": [
    "//3. Oblicz ile godzin średnio w ciągu tygodnia pracują osoby `Never-married` w stosunku do reszty społeczeństwa\n",
    "\n",
    "df.select($\"hours-per-week\",\n",
    "         (when($\"marital-status\" === \"Never-married\", \"Never-married\").otherwise(\"Rest\")).as(\"flag\")\n",
    "         ).groupBy(\"flag\").avg().show()"
   ]
  },
  {
   "cell_type": "code",
   "execution_count": 107,
   "metadata": {},
   "outputs": [
    {
     "name": "stdout",
     "output_type": "stream",
     "text": [
      "+---+-------------------+\n",
      "|age|                avg|\n",
      "+---+-------------------+\n",
      "| 50| 0.4335548172757475|\n",
      "| 54|0.41686746987951806|\n",
      "| 79| 0.4090909090909091|\n",
      "| 53| 0.4073275862068966|\n",
      "| 47| 0.4067796610169492|\n",
      "| 51|0.40672268907563025|\n",
      "| 52|  0.401673640167364|\n",
      "| 48| 0.3996316758747698|\n",
      "| 46|0.39620081411126185|\n",
      "| 45| 0.3923705722070845|\n",
      "| 44|0.38812154696132595|\n",
      "| 59|0.37464788732394366|\n",
      "| 57| 0.3659217877094972|\n",
      "| 49|0.35701906412478335|\n",
      "| 43|0.35454545454545455|\n",
      "| 55|0.34844868735083534|\n",
      "| 42|0.34615384615384615|\n",
      "| 41|0.34529702970297027|\n",
      "| 38|0.34099153567110035|\n",
      "| 39|0.34068627450980393|\n",
      "+---+-------------------+\n",
      "only showing top 20 rows\n",
      "\n"
     ]
    }
   ],
   "source": [
    "//4. W jakim wieku najczęściej zarabia sie powyżej 50K?\n",
    "\n",
    "df.select($\"age\",\n",
    "          when($\"earnings\" === \">50K\", 1).otherwise(0).as(\"earnings\")\n",
    "         ).groupBy(\"age\").agg(avg(\"earnings\").as(\"avg\")).orderBy($\"avg\".desc).show(3)"
   ]
  },
  {
   "cell_type": "code",
   "execution_count": 111,
   "metadata": {},
   "outputs": [
    {
     "name": "stdout",
     "output_type": "stream",
     "text": [
      "+------------------+-----+\n",
      "|              race|ratio|\n",
      "+------------------+-----+\n",
      "|             Other| 0.67|\n",
      "|Amer-Indian-Eskimo| 0.62|\n",
      "|             White| 0.45|\n",
      "|Asian-Pac-Islander|  0.5|\n",
      "|             Black| 0.99|\n",
      "+------------------+-----+\n",
      "\n"
     ]
    }
   ],
   "source": [
    "//5. W podziale ze względu na zmienną `race` oblicz stosunek liczby kobiet do mężczyzn\n",
    "\n",
    "df.select($\"race\",\n",
    "         when($\"sex\" === \"Male\", 1).otherwise(0).as(\"M\"),\n",
    "         when($\"sex\" === \"Female\", 1).otherwise(0).as(\"F\")\n",
    "         ).groupBy(\"race\"\n",
    "         ).agg(round(sum(\"F\")/sum(\"M\"),2).as(\"ratio\")).show()"
   ]
  },
  {
   "cell_type": "code",
   "execution_count": 139,
   "metadata": {},
   "outputs": [
    {
     "name": "stdout",
     "output_type": "stream",
     "text": [
      "+----+------------------+\n",
      "|flag|         avg_hours|\n",
      "+----+------------------+\n",
      "|gain| 43.51032448377581|\n",
      "|rest|40.158263258400616|\n",
      "+----+------------------+\n",
      "\n"
     ]
    },
    {
     "data": {
      "text/plain": [
       "x: org.apache.spark.sql.DataFrame = [flag: string, avg_hours: double]\n"
      ]
     },
     "execution_count": 139,
     "metadata": {},
     "output_type": "execute_result"
    }
   ],
   "source": [
    "//6. Oblicz różnicę pomiędzy średnim czasem pracy osób uzyskujących `capital-gain` a resztą populacji\n",
    "\n",
    "val x = df.select($\"hours-per-week\",\n",
    "         when($\"capital-gain\" > 0, \"gain\").otherwise(\"rest\").as(\"flag\")\n",
    "         ).groupBy(\"flag\").agg(avg(\"hours-per-week\").as(\"avg_hours\"))\n",
    "\n",
    "x.show()"
   ]
  },
  {
   "cell_type": "code",
   "execution_count": 140,
   "metadata": {},
   "outputs": [
    {
     "data": {
      "text/plain": [
       "rows: Array[org.apache.spark.sql.Row] = Array([gain,43.51032448377581], [rest,40.158263258400616])\n"
      ]
     },
     "execution_count": 140,
     "metadata": {},
     "output_type": "execute_result"
    }
   ],
   "source": [
    "val rows = x.collect()"
   ]
  },
  {
   "cell_type": "code",
   "execution_count": 138,
   "metadata": {},
   "outputs": [
    {
     "data": {
      "text/plain": [
       "res109: Double = 3.352061225375195\n"
      ]
     },
     "execution_count": 138,
     "metadata": {},
     "output_type": "execute_result"
    }
   ],
   "source": [
    "rows(0).get(1).asInstanceOf[Double] - rows(1).get(1).asInstanceOf[Double]"
   ]
  },
  {
   "cell_type": "code",
   "execution_count": 10,
   "metadata": {},
   "outputs": [
    {
     "data": {
      "text/plain": [
       "import org.apache.spark.sql.expressions.Window\n"
      ]
     },
     "execution_count": 10,
     "metadata": {},
     "output_type": "execute_result"
    }
   ],
   "source": [
    "import org.apache.spark.sql.expressions.Window"
   ]
  },
  {
   "cell_type": "code",
   "execution_count": 155,
   "metadata": {},
   "outputs": [
    {
     "name": "stdout",
     "output_type": "stream",
     "text": [
      "+---------+---+-----------------+-------------------+\n",
      "|education|age|      avg_edu_age|               diff|\n",
      "+---------+---+-----------------+-------------------+\n",
      "|     10th| 67|37.42979635584137|  29.57020364415863|\n",
      "|     10th| 17|37.42979635584137| -20.42979635584137|\n",
      "|     10th| 25|37.42979635584137|-12.429796355841368|\n",
      "|     10th| 60|37.42979635584137|  22.57020364415863|\n",
      "|     10th| 59|37.42979635584137|  21.57020364415863|\n",
      "|     10th| 55|37.42979635584137|  17.57020364415863|\n",
      "|     10th| 36|37.42979635584137|-1.4297963558413684|\n",
      "|     10th| 33|37.42979635584137| -4.429796355841368|\n",
      "|     10th| 27|37.42979635584137|-10.429796355841368|\n",
      "|     10th| 58|37.42979635584137|  20.57020364415863|\n",
      "|     10th| 52|37.42979635584137| 14.570203644158632|\n",
      "|     10th| 17|37.42979635584137| -20.42979635584137|\n",
      "|     10th| 49|37.42979635584137| 11.570203644158632|\n",
      "|     10th| 58|37.42979635584137|  20.57020364415863|\n",
      "|     10th| 32|37.42979635584137| -5.429796355841368|\n",
      "|     10th| 17|37.42979635584137| -20.42979635584137|\n",
      "|     10th| 21|37.42979635584137| -16.42979635584137|\n",
      "|     10th| 53|37.42979635584137| 15.570203644158632|\n",
      "|     10th| 41|37.42979635584137| 3.5702036441586316|\n",
      "|     10th| 33|37.42979635584137| -4.429796355841368|\n",
      "+---------+---+-----------------+-------------------+\n",
      "only showing top 20 rows\n",
      "\n"
     ]
    },
    {
     "data": {
      "text/plain": [
       "wndw: org.apache.spark.sql.expressions.WindowSpec = org.apache.spark.sql.expressions.WindowSpec@6e99ec9f\n"
      ]
     },
     "execution_count": 155,
     "metadata": {},
     "output_type": "execute_result"
    }
   ],
   "source": [
    "// 7. Oblicz róznicę wieku do średniego wieku osób z danym poziomem wykształcenia\n",
    "\n",
    "val wndw = Window.partitionBy(\"education\")\n",
    "\n",
    "df.select($\"education\", $\"age\", \n",
    "          avg(\"age\").over(wndw).alias(\"avg_edu_age\")\n",
    "         ).withColumn(\"diff\",   $\"age\" - $\"avg_edu_age\").show()\n"
   ]
  },
  {
   "cell_type": "markdown",
   "metadata": {},
   "source": [
    "----\n",
    "\n",
    "## SalaryHistory"
   ]
  },
  {
   "cell_type": "code",
   "execution_count": 1,
   "metadata": {},
   "outputs": [
    {
     "data": {
      "text/plain": [
       "Intitializing Scala interpreter ..."
      ]
     },
     "metadata": {},
     "output_type": "display_data"
    },
    {
     "data": {
      "text/plain": [
       "Spark Web UI available at http://ce7d2534405e:4040\n",
       "SparkContext available as 'sc' (version = 3.0.0, master = local[*], app id = local-1597906445570)\n",
       "SparkSession available as 'spark'\n"
      ]
     },
     "metadata": {},
     "output_type": "display_data"
    },
    {
     "data": {
      "text/plain": [
       "random: scala.util.Random = scala.util.Random@6418e423\n",
       "years: Int = 6\n",
       "names: List[String] = List(Alice, Betty, Chris, Dan, Greg)\n",
       "names_count: Int = 5\n",
       "names_list: scala.collection.immutable.IndexedSeq[String] = Vector(Alice, Alice, Alice, Alice, Alice, Alice, Betty, Betty, Betty, Betty, Betty, Betty, Chris, Chris, Chris, Chris, Chris, Chris, Dan, Dan, Dan, Dan, Dan, Dan, Greg, Greg, Greg, Greg, Greg, Greg)\n",
       "year: scala.collection.immutable.IndexedSeq[Int] = Vector(2005, 2006, 2007, 2008, 2009, 2010, 2005, 2006, 2007, 2008, 2009, 2010, 2005, 2006, 2007, 2008, 2009, 2010, 2005, 2006, 2007, 2008, 2009, 2010, 2005, 2006, 2007, 2008, 2009, 2010)\n",
       "starting_salary: scala.collection.immutable.IndexedSeq[Double] = Vector(2561.95, 4634.2, 4226.06, 4277.46, 4184.32)\n",
       "temp_salary: List[Double] = List(2...\n"
      ]
     },
     "execution_count": 1,
     "metadata": {},
     "output_type": "execute_result"
    }
   ],
   "source": [
    "val random = new scala.util.Random(123)\n",
    "val years = 6\n",
    "val names = List(\"Alice\", \"Betty\", \"Chris\", \"Dan\", \"Greg\")\n",
    "val names_count = names.length\n",
    "\n",
    "val names_list = (1 to years).flatMap(x => names.map(y => y)).sorted\n",
    "\n",
    "val year = (1 to names_count).flatMap(x => (0 until years).map(y => 2005 + y))\n",
    "\n",
    "val starting_salary = (1 to names_count).map(x => {val n = random.nextGaussian()*1000 + 4000; \n",
    "                                                   BigDecimal(n).setScale(2, BigDecimal.RoundingMode.HALF_UP\n",
    "                                                                         ).toDouble})\n",
    "\n",
    "var temp_salary = starting_salary.flatMap(x => x :: List.fill(years-1)(0.0)).toList"
   ]
  },
  {
   "cell_type": "code",
   "execution_count": 2,
   "metadata": {},
   "outputs": [
    {
     "data": {
      "text/plain": [
       "replaceZero: (l: List[Double])List[Double]\n",
       "roundToTwoDec: (l: List[Double])List[Double]\n",
       "zipMany: [X, Y, Z](xs: Seq[X], ys: Seq[Y], zs: Seq[Z])Seq[(X, Y, Z)]\n"
      ]
     },
     "execution_count": 2,
     "metadata": {},
     "output_type": "execute_result"
    }
   ],
   "source": [
    "def replaceZero(l: List[Double]): List[Double]= {\n",
    "    var diff = random.nextGaussian()*0.09 + 0.1;\n",
    "    l match {\n",
    "      case x :: y :: tail if x != 0.0 & y !=0 => x :: replaceZero(y :: tail)\n",
    "      case x :: 0.0 :: tail if x != 0.0 => x :: replaceZero((x * (1+diff)):: tail)\n",
    "      case x :: Nil  if x != 0.0 => x :: Nil\n",
    "    }\n",
    "}\n",
    "\n",
    "def roundToTwoDec(l: List[Double]) = \n",
    "            l.map(x => BigDecimal(x).setScale(2, BigDecimal.RoundingMode.HALF_UP).toDouble)\n",
    "\n",
    "def zipMany[X,Y,Z](xs: Seq[X], ys: Seq[Y], zs: Seq[Z]): Seq[(X,Y,Z)] =\n",
    "    for (((x, y), z) <- xs zip ys zip zs) yield (x, y, z)"
   ]
  },
  {
   "cell_type": "code",
   "execution_count": 4,
   "metadata": {},
   "outputs": [
    {
     "data": {
      "text/plain": [
       "salary: List[Double] = List(2561.95, 2733.94, 3340.0, 3781.99, 4090.31, 4873.91, 4634.2, 4309.26, 4559.02, 4739.57, 4497.16, 4838.16, 4226.06, 4107.93, 4553.96, 4849.8, 5834.7, 7004.38, 4277.46, 5398.69, 6652.84, 7960.74, 9667.38, 8975.86, 4184.32, 4624.18, 5289.15, 5148.91, 5158.04, 6175.91)\n",
       "salary_history: org.apache.spark.sql.DataFrame = [name: string, year: int ... 1 more field]\n",
       "sh: org.apache.spark.sql.Dataset[org.apache.spark.sql.Row] = [name: string, year: int ... 1 more field]\n"
      ]
     },
     "execution_count": 4,
     "metadata": {},
     "output_type": "execute_result"
    }
   ],
   "source": [
    "val salary = roundToTwoDec(replaceZero(temp_salary))\n",
    "\n",
    "val salary_history = zipMany(names_list, year, salary).toDF(\"name\", \"year\", \"salary\")\n",
    "\n",
    "val sh = salary_history.filter(!($\"name\" === \"Greg\" && $\"year\" === 2006)).union(\n",
    "           Seq((\"Alice\", 2006, 3000.00): Tuple3[String, Int, Double]).toDF(\"name\", \"year\", \"salary\"))"
   ]
  },
  {
   "cell_type": "code",
   "execution_count": 5,
   "metadata": {
    "scrolled": true
   },
   "outputs": [
    {
     "data": {
      "text/plain": [
       "sh: org.apache.spark.sql.Dataset[org.apache.spark.sql.Row] = [name: string, year: int ... 1 more field]\n"
      ]
     },
     "execution_count": 5,
     "metadata": {},
     "output_type": "execute_result"
    }
   ],
   "source": [
    "val sh = salary_history.filter(!($\"name\" === \"Greg\" && $\"year\" === 2006)).union(\n",
    "           Seq((\"Alice\", 2006, 3000.00): Tuple3[String, Int, Double]).toDF(\"name\", \"year\", \"salary\"))"
   ]
  },
  {
   "cell_type": "code",
   "execution_count": 6,
   "metadata": {},
   "outputs": [
    {
     "name": "stdout",
     "output_type": "stream",
     "text": [
      "+-----+----+-------+\n",
      "| name|year| salary|\n",
      "+-----+----+-------+\n",
      "|Alice|2005|2561.95|\n",
      "|Alice|2006|2733.94|\n",
      "|Alice|2007| 3340.0|\n",
      "|Alice|2008|3781.99|\n",
      "|Alice|2009|4090.31|\n",
      "|Alice|2010|4873.91|\n",
      "|Betty|2005| 4634.2|\n",
      "|Betty|2006|4309.26|\n",
      "|Betty|2007|4559.02|\n",
      "|Betty|2008|4739.57|\n",
      "|Betty|2009|4497.16|\n",
      "|Betty|2010|4838.16|\n",
      "|Chris|2005|4226.06|\n",
      "|Chris|2006|4107.93|\n",
      "|Chris|2007|4553.96|\n",
      "|Chris|2008| 4849.8|\n",
      "|Chris|2009| 5834.7|\n",
      "|Chris|2010|7004.38|\n",
      "|  Dan|2005|4277.46|\n",
      "|  Dan|2006|5398.69|\n",
      "|  Dan|2007|6652.84|\n",
      "|  Dan|2008|7960.74|\n",
      "|  Dan|2009|9667.38|\n",
      "|  Dan|2010|8975.86|\n",
      "| Greg|2005|4184.32|\n",
      "| Greg|2007|5289.15|\n",
      "| Greg|2008|5148.91|\n",
      "| Greg|2009|5158.04|\n",
      "| Greg|2010|6175.91|\n",
      "|Alice|2006| 3000.0|\n",
      "+-----+----+-------+\n",
      "\n"
     ]
    }
   ],
   "source": [
    "sh.show(30)"
   ]
  },
  {
   "cell_type": "markdown",
   "metadata": {},
   "source": [
    "> **ZADANIA**:\n",
    "1. Oblicz ile razy powtarza się każde z imion w salaryHistory\n",
    "2. Oblicz średnią, minimum i maksimum z pensji w każdym roku, lata posortuj malejąco, wyniki zaokrąglij do pełnych wartości\n",
    "3. Oblicz różnicę między pensją w danym roku a średnią pensją danej osoby na przestrzeni wszystkich lat\n",
    "4. Porównaj pensje ludzi pomiedzy najwcześniejszym i najpóźniejszym rokiem ich pracy\n",
    "5. Czy komukolwiek obniżyła się pensja w stosunku do roku poprzedniego? **a.** Ile osób było kiedykolwiek w takiej sytuacji? **b.** Jaki jest rozkład częstości takich przypadków w zależności od roku?\n",
    "6. Oblicz różnicę w pensjach w stosuku do: **a.** najwyższej pensji danej osoby, **b.** drugiej najwyższej pensji danej osoby\n",
    "7. Oblicz medianę wszystkich zarobków\n",
    "8. Oblicz medianę zarobków poszczególnych osób"
   ]
  },
  {
   "cell_type": "code",
   "execution_count": 7,
   "metadata": {},
   "outputs": [
    {
     "name": "stdout",
     "output_type": "stream",
     "text": [
      "+-----+-----+\n",
      "| name|count|\n",
      "+-----+-----+\n",
      "|Chris|    6|\n",
      "| Greg|    5|\n",
      "|Betty|    6|\n",
      "|  Dan|    6|\n",
      "|Alice|    7|\n",
      "+-----+-----+\n",
      "\n"
     ]
    }
   ],
   "source": [
    "//1. Oblicz ile razy powtarza się każde z imion w salaryHistor\n",
    "\n",
    "sh.groupBy($\"name\").count().show()"
   ]
  },
  {
   "cell_type": "code",
   "execution_count": 8,
   "metadata": {},
   "outputs": [
    {
     "name": "stdout",
     "output_type": "stream",
     "text": [
      "+----+-------+-------+-------+\n",
      "|year|    min|    max|    avg|\n",
      "+----+-------+-------+-------+\n",
      "|2007| 3340.0|6652.84|4878.99|\n",
      "|2006|2733.94|5398.69|3909.96|\n",
      "|2009|4090.31|9667.38|5849.52|\n",
      "|2005|2561.95| 4634.2| 3976.8|\n",
      "|2010|4838.16|8975.86|6373.64|\n",
      "|2008|3781.99|7960.74| 5296.2|\n",
      "+----+-------+-------+-------+\n",
      "\n"
     ]
    }
   ],
   "source": [
    "//2. Oblicz średnią, minimum i maksimum z pensji w każdym roku, lata posortuj malejąco, \n",
    "//wyniki zaokrąglij do pełnych wartości\n",
    "\n",
    "sh.groupBy($\"year\").agg(\n",
    "                        min(\"salary\").as(\"min\"),\n",
    "                        max(\"salary\").as(\"max\"),\n",
    "                        round(avg(\"salary\"),2).as(\"avg\")).show()"
   ]
  },
  {
   "cell_type": "code",
   "execution_count": 13,
   "metadata": {},
   "outputs": [
    {
     "name": "stdout",
     "output_type": "stream",
     "text": [
      "+-----+----+-------+----------+-------+\n",
      "| name|year| salary|avg_salary|   diff|\n",
      "+-----+----+-------+----------+-------+\n",
      "|Chris|2005|4226.06|   5096.14|  870.0|\n",
      "|Chris|2006|4107.93|   5096.14|  988.0|\n",
      "|Chris|2007|4553.96|   5096.14|  542.0|\n",
      "|Chris|2008| 4849.8|   5096.14|  246.0|\n",
      "|Chris|2009| 5834.7|   5096.14| -739.0|\n",
      "|Chris|2010|7004.38|   5096.14|-1908.0|\n",
      "| Greg|2005|4184.32|   5191.27| 1007.0|\n",
      "| Greg|2007|5289.15|   5191.27|  -98.0|\n",
      "| Greg|2008|5148.91|   5191.27|   42.0|\n",
      "| Greg|2009|5158.04|   5191.27|   33.0|\n",
      "| Greg|2010|6175.91|   5191.27| -985.0|\n",
      "|Betty|2005| 4634.2|   4596.23|  -38.0|\n",
      "|Betty|2006|4309.26|   4596.23|  287.0|\n",
      "|Betty|2007|4559.02|   4596.23|   37.0|\n",
      "|Betty|2008|4739.57|   4596.23| -143.0|\n",
      "|Betty|2009|4497.16|   4596.23|   99.0|\n",
      "|Betty|2010|4838.16|   4596.23| -242.0|\n",
      "|  Dan|2005|4277.46|    7155.5| 2878.0|\n",
      "|  Dan|2006|5398.69|    7155.5| 1757.0|\n",
      "|  Dan|2007|6652.84|    7155.5|  503.0|\n",
      "+-----+----+-------+----------+-------+\n",
      "only showing top 20 rows\n",
      "\n"
     ]
    },
    {
     "data": {
      "text/plain": [
       "avg_sal_wndw: org.apache.spark.sql.expressions.WindowSpec = org.apache.spark.sql.expressions.WindowSpec@6bfba0b8\n"
      ]
     },
     "execution_count": 13,
     "metadata": {},
     "output_type": "execute_result"
    }
   ],
   "source": [
    "//3. Oblicz różnicę między pensją w danym roku a średnią pensją danej osoby na przestrzeni wszystkich lat\n",
    "\n",
    "val avg_sal_wndw = Window.partitionBy(\"name\")\n",
    "\n",
    "sh.select($\"name\", $\"year\", $\"salary\",\n",
    "         round(avg(\"salary\").over(avg_sal_wndw),2).as(\"avg_salary\")\n",
    "         ).withColumn(\"diff\", round($\"avg_salary\" - $\"salary\"))\n",
    ".show()"
   ]
  },
  {
   "cell_type": "code",
   "execution_count": 11,
   "metadata": {},
   "outputs": [
    {
     "name": "stdout",
     "output_type": "stream",
     "text": [
      "+-----+------+\n",
      "| name|  diff|\n",
      "+-----+------+\n",
      "|Chris|2778.0|\n",
      "| Greg|1992.0|\n",
      "|Betty| 204.0|\n",
      "|  Dan|4698.0|\n",
      "|Alice|2312.0|\n",
      "+-----+------+\n",
      "\n"
     ]
    },
    {
     "data": {
      "text/plain": [
       "salaryHistory_avg: org.apache.spark.sql.DataFrame = [name: string, year: int ... 1 more field]\n",
       "asc_wndw: org.apache.spark.sql.expressions.WindowSpec = org.apache.spark.sql.expressions.WindowSpec@57836e69\n",
       "desc_wndw: org.apache.spark.sql.expressions.WindowSpec = org.apache.spark.sql.expressions.WindowSpec@5ca7f806\n"
      ]
     },
     "execution_count": 11,
     "metadata": {},
     "output_type": "execute_result"
    }
   ],
   "source": [
    "//4. Porównaj pensje ludzi pomiedzy najwcześniejszym i najpóźniejszym rokiem ich pracy\n",
    "\n",
    "// uśredniona pensja Alice w 2006 roku\n",
    "val salaryHistory_avg = sh.groupBy(\"name\", \"year\").agg(avg(\"salary\").alias(\"salary\"))\n",
    "\n",
    "val asc_wndw = Window.partitionBy(\"name\").orderBy(\"year\")\n",
    "val desc_wndw = Window.partitionBy(\"name\").orderBy(col(\"year\").desc)\n",
    "\n",
    "salaryHistory_avg.withColumn(\"diff\", first(\"salary\").over(desc_wndw) - first(\"salary\").over(asc_wndw)\n",
    "                            ).select($\"name\", round($\"diff\").as(\"diff\")).distinct().show()\n",
    "\n"
   ]
  },
  {
   "cell_type": "code",
   "execution_count": 14,
   "metadata": {},
   "outputs": [
    {
     "name": "stdout",
     "output_type": "stream",
     "text": [
      "+-----+----+-------+-----------+-------------------+\n",
      "| name|year| salary|prev_salary|               diff|\n",
      "+-----+----+-------+-----------+-------------------+\n",
      "|Chris|2005|4226.06|       null|               null|\n",
      "|Chris|2006|4107.93|    4226.06|-118.13000000000011|\n",
      "|Chris|2007|4553.96|    4107.93| 446.02999999999975|\n",
      "|Chris|2008| 4849.8|    4553.96| 295.84000000000015|\n",
      "|Chris|2009| 5834.7|     4849.8|  984.8999999999996|\n",
      "|Chris|2010|7004.38|     5834.7| 1169.6800000000003|\n",
      "| Greg|2005|4184.32|       null|               null|\n",
      "| Greg|2007|5289.15|    4184.32|            1104.83|\n",
      "| Greg|2008|5148.91|    5289.15|-140.23999999999978|\n",
      "| Greg|2009|5158.04|    5148.91|   9.13000000000011|\n",
      "| Greg|2010|6175.91|    5158.04| 1017.8699999999999|\n",
      "|Betty|2005| 4634.2|       null|               null|\n",
      "|Betty|2006|4309.26|     4634.2| -324.9399999999996|\n",
      "|Betty|2007|4559.02|    4309.26| 249.76000000000022|\n",
      "|Betty|2008|4739.57|    4559.02| 180.54999999999927|\n",
      "|Betty|2009|4497.16|    4739.57|-242.40999999999985|\n",
      "|Betty|2010|4838.16|    4497.16|              341.0|\n",
      "|  Dan|2005|4277.46|       null|               null|\n",
      "|  Dan|2006|5398.69|    4277.46| 1121.2299999999996|\n",
      "|  Dan|2007|6652.84|    5398.69| 1254.1500000000005|\n",
      "+-----+----+-------+-----------+-------------------+\n",
      "only showing top 20 rows\n",
      "\n"
     ]
    },
    {
     "data": {
      "text/plain": [
       "wnd_prev: org.apache.spark.sql.expressions.WindowSpec = org.apache.spark.sql.expressions.WindowSpec@30e03ed8\n"
      ]
     },
     "execution_count": 14,
     "metadata": {},
     "output_type": "execute_result"
    }
   ],
   "source": [
    "//5. Czy komukolwiek obniżyła się pensja w stosunku do roku poprzedniego? \n",
    "//**a.** Ile osób było kiedykolwiek w takiej sytuacji? \n",
    "//**b.** Jaki jest rozkład częstości takich przypadków w zależności od roku?\n",
    "\n",
    "val wnd_prev = Window.partitionBy(\"name\").orderBy(\"year\")\n",
    "\n",
    "sh.withColumn(\"prev_salary\", lag(\"salary\", 1).over(wnd_prev)\n",
    "             ).withColumn(\"diff\", $\"salary\" - $\"prev_salary\").show()"
   ]
  },
  {
   "cell_type": "code",
   "execution_count": 15,
   "metadata": {},
   "outputs": [
    {
     "name": "stdout",
     "output_type": "stream",
     "text": [
      "+-----+----+-------+-----------+-------------------+\n",
      "| name|year| salary|prev_salary|               diff|\n",
      "+-----+----+-------+-----------+-------------------+\n",
      "|Chris|2006|4107.93|    4226.06|-118.13000000000011|\n",
      "| Greg|2008|5148.91|    5289.15|-140.23999999999978|\n",
      "|Betty|2006|4309.26|     4634.2| -324.9399999999996|\n",
      "|Betty|2009|4497.16|    4739.57|-242.40999999999985|\n",
      "|  Dan|2010|8975.86|    9667.38| -691.5199999999986|\n",
      "+-----+----+-------+-----------+-------------------+\n",
      "\n"
     ]
    }
   ],
   "source": [
    "//a\n",
    "sh.withColumn(\"prev_salary\", lag(\"salary\", 1).over(wnd_prev)\n",
    "             ).withColumn(\"diff\", $\"salary\" - $\"prev_salary\"\n",
    "             ).filter($\"diff\" < 0).show()"
   ]
  },
  {
   "cell_type": "code",
   "execution_count": 16,
   "metadata": {},
   "outputs": [
    {
     "name": "stdout",
     "output_type": "stream",
     "text": [
      "+----+-------+\n",
      "|year|n_cases|\n",
      "+----+-------+\n",
      "|2005|      0|\n",
      "|2006|      2|\n",
      "|2007|      0|\n",
      "|2008|      1|\n",
      "|2009|      1|\n",
      "|2010|      1|\n",
      "+----+-------+\n",
      "\n"
     ]
    }
   ],
   "source": [
    "//b\n",
    "sh.withColumn(\"flag\", \n",
    "             when(($\"salary\" - lag($\"salary\",1).over(wnd_prev)) < 0 , 1).otherwise(0)\n",
    "             ).groupBy(\"year\").agg(sum(\"flag\").as(\"n_cases\")).orderBy(\"year\").show()"
   ]
  },
  {
   "cell_type": "code",
   "execution_count": 17,
   "metadata": {},
   "outputs": [
    {
     "name": "stdout",
     "output_type": "stream",
     "text": [
      "+----+-------+-----+----------+------------------+\n",
      "|year| salary| name|max_salary|              diff|\n",
      "+----+-------+-----+----------+------------------+\n",
      "|2005|2561.95|Alice|   4873.91|           2311.96|\n",
      "|2006|2733.94|Alice|   4873.91|           2139.97|\n",
      "|2007| 3340.0|Alice|   4873.91|1533.9099999999999|\n",
      "|2008|3781.99|Alice|   4873.91|           1091.92|\n",
      "|2009|4090.31|Alice|   4873.91| 783.5999999999999|\n",
      "|2010|4873.91|Alice|   4873.91|               0.0|\n",
      "|2005| 4634.2|Betty|   4838.16|203.96000000000004|\n",
      "|2006|4309.26|Betty|   4838.16| 528.8999999999996|\n",
      "|2007|4559.02|Betty|   4838.16| 279.1399999999994|\n",
      "|2008|4739.57|Betty|   4838.16| 98.59000000000015|\n",
      "|2009|4497.16|Betty|   4838.16|             341.0|\n",
      "|2010|4838.16|Betty|   4838.16|               0.0|\n",
      "|2005|4226.06|Chris|   7004.38|2778.3199999999997|\n",
      "|2006|4107.93|Chris|   7004.38|           2896.45|\n",
      "|2007|4553.96|Chris|   7004.38|           2450.42|\n",
      "|2008| 4849.8|Chris|   7004.38|           2154.58|\n",
      "|2009| 5834.7|Chris|   7004.38|1169.6800000000003|\n",
      "|2010|7004.38|Chris|   7004.38|               0.0|\n",
      "|2005|4277.46|  Dan|   9667.38| 5389.919999999999|\n",
      "|2006|5398.69|  Dan|   9667.38|           4268.69|\n",
      "+----+-------+-----+----------+------------------+\n",
      "only showing top 20 rows\n",
      "\n"
     ]
    },
    {
     "data": {
      "text/plain": [
       "max_sal: org.apache.spark.sql.DataFrame = [name: string, max_salary: double]\n"
      ]
     },
     "execution_count": 17,
     "metadata": {},
     "output_type": "execute_result"
    }
   ],
   "source": [
    "//6. Oblicz różnicę w pensjach w stosuku do: \n",
    "//**a.** najwyższej pensji danej osoby,\n",
    "//**b.** drugiej najwyższej pensji danej osoby\n",
    "\n",
    "val max_sal = sh.select($\"name\", $\"salary\").groupBy(\"name\").agg(max(\"salary\").as(\"max_salary\"))\n",
    "\n",
    "//a\n",
    "sh.join(max_sal, sh.col(\"name\")=== max_sal.col(\"name\"), \"inner\").drop(max_sal.col(\"name\")\n",
    "        ).withColumn(\"diff\", $\"max_salary\" - $\"salary\").show()"
   ]
  },
  {
   "cell_type": "code",
   "execution_count": 29,
   "metadata": {},
   "outputs": [
    {
     "name": "stdout",
     "output_type": "stream",
     "text": [
      "+-----+----+-------+-------+----------+-------------------+-------------------+-------+-------+\n",
      "| name|year| salary|highest|secondHigh|           diffHigh|       diffScndHigh|  lead1|   lag1|\n",
      "+-----+----+-------+-------+----------+-------------------+-------------------+-------+-------+\n",
      "|Chris|2010|7004.38|7004.38|    5834.7|                0.0| 1169.6800000000003| 5834.7|   null|\n",
      "|Chris|2009| 5834.7|7004.38|    5834.7|-1169.6800000000003|                0.0| 4849.8|7004.38|\n",
      "|Chris|2008| 4849.8|7004.38|    5834.7|           -2154.58| -984.8999999999996|4553.96| 5834.7|\n",
      "|Chris|2007|4553.96|7004.38|    5834.7|           -2450.42|-1280.7399999999998|4226.06| 4849.8|\n",
      "|Chris|2005|4226.06|7004.38|    5834.7|-2778.3199999999997|-1608.6399999999994|4107.93|4553.96|\n",
      "|Chris|2006|4107.93|7004.38|    5834.7|           -2896.45|-1726.7699999999995|   null|4226.06|\n",
      "+-----+----+-------+-------+----------+-------------------+-------------------+-------+-------+\n",
      "only showing top 6 rows\n",
      "\n"
     ]
    },
    {
     "data": {
      "text/plain": [
       "max_sal_wndw: org.apache.spark.sql.expressions.WindowSpec = org.apache.spark.sql.expressions.WindowSpec@6005a3c3\n"
      ]
     },
     "execution_count": 29,
     "metadata": {},
     "output_type": "execute_result"
    }
   ],
   "source": [
    "//b \n",
    "val max_sal_wndw = Window.partitionBy(\"name\").orderBy(col(\"salary\").desc)\n",
    "\n",
    "sh\n",
    ".withColumn(\"highest\", first(\"salary\").over(max_sal_wndw)) \n",
    ".withColumn(\"secondHigh\", first(lead(\"salary\", 1).over(max_sal_wndw)).over(max_sal_wndw))\n",
    ".withColumn(\"diffHigh\", $\"salary\" - first(\"salary\").over(max_sal_wndw)) \n",
    ".withColumn(\"diffScndHigh\", $\"salary\" - first(lead(\"salary\", 1).over(max_sal_wndw)).over(max_sal_wndw)) \n",
    ".withColumn(\"lead1\", lead(\"salary\", 1).over(max_sal_wndw))\n",
    ".withColumn(\"lag1\", lag($\"salary\",1).over(max_sal_wndw))\n",
    "\n",
    ".show(6)"
   ]
  },
  {
   "cell_type": "code",
   "execution_count": 31,
   "metadata": {},
   "outputs": [
    {
     "data": {
      "text/plain": [
       "res21: Array[Double] = Array(4634.2)\n"
      ]
     },
     "execution_count": 31,
     "metadata": {},
     "output_type": "execute_result"
    }
   ],
   "source": [
    "//7. Oblicz medianę wszystkich zarobków\n",
    "\n",
    "sh.stat.approxQuantile(\"salary\", Array(0.5), 0.001)"
   ]
  },
  {
   "cell_type": "code",
   "execution_count": 32,
   "metadata": {},
   "outputs": [
    {
     "name": "stdout",
     "output_type": "stream",
     "text": [
      "+-----+----+-------+----+---+-------+-----------------+\n",
      "| name|year| salary|rank|avg| helper|           median|\n",
      "+-----+----+-------+----+---+-------+-----------------+\n",
      "|Chris|2006|4107.93|   1|3.5|   null|          4701.88|\n",
      "|Chris|2005|4226.06|   2|3.5|   null|          4701.88|\n",
      "|Chris|2007|4553.96|   3|3.5|4553.96|          4701.88|\n",
      "|Chris|2008| 4849.8|   4|3.5| 4849.8|          4701.88|\n",
      "|Chris|2009| 5834.7|   5|3.5|   null|          4701.88|\n",
      "|Chris|2010|7004.38|   6|3.5|   null|          4701.88|\n",
      "| Greg|2005|4184.32|   1|3.0|   null|          5158.04|\n",
      "| Greg|2008|5148.91|   2|3.0|   null|          5158.04|\n",
      "| Greg|2009|5158.04|   3|3.0|5158.04|          5158.04|\n",
      "| Greg|2007|5289.15|   4|3.0|   null|          5158.04|\n",
      "| Greg|2010|6175.91|   5|3.0|   null|          5158.04|\n",
      "|Betty|2006|4309.26|   1|3.5|   null|4596.610000000001|\n",
      "|Betty|2009|4497.16|   2|3.5|   null|4596.610000000001|\n",
      "|Betty|2007|4559.02|   3|3.5|4559.02|4596.610000000001|\n",
      "|Betty|2005| 4634.2|   4|3.5| 4634.2|4596.610000000001|\n",
      "|Betty|2008|4739.57|   5|3.5|   null|4596.610000000001|\n",
      "|Betty|2010|4838.16|   6|3.5|   null|4596.610000000001|\n",
      "|  Dan|2005|4277.46|   1|3.5|   null|          7306.79|\n",
      "|  Dan|2006|5398.69|   2|3.5|   null|          7306.79|\n",
      "|  Dan|2007|6652.84|   3|3.5|6652.84|          7306.79|\n",
      "|  Dan|2008|7960.74|   4|3.5|7960.74|          7306.79|\n",
      "|  Dan|2010|8975.86|   5|3.5|   null|          7306.79|\n",
      "|  Dan|2009|9667.38|   6|3.5|   null|          7306.79|\n",
      "|Alice|2005|2561.95|   1|4.0|   null|           3340.0|\n",
      "|Alice|2006|2733.94|   2|4.0|   null|           3340.0|\n",
      "|Alice|2006| 3000.0|   3|4.0|   null|           3340.0|\n",
      "|Alice|2007| 3340.0|   4|4.0| 3340.0|           3340.0|\n",
      "|Alice|2008|3781.99|   5|4.0|   null|           3340.0|\n",
      "|Alice|2009|4090.31|   6|4.0|   null|           3340.0|\n",
      "|Alice|2010|4873.91|   7|4.0|   null|           3340.0|\n",
      "+-----+----+-------+----+---+-------+-----------------+\n",
      "\n"
     ]
    },
    {
     "data": {
      "text/plain": [
       "wndw_1: org.apache.spark.sql.expressions.WindowSpec = org.apache.spark.sql.expressions.WindowSpec@630b8eab\n",
       "wndw_2: org.apache.spark.sql.expressions.WindowSpec = org.apache.spark.sql.expressions.WindowSpec@79c6204e\n"
      ]
     },
     "execution_count": 32,
     "metadata": {},
     "output_type": "execute_result"
    }
   ],
   "source": [
    "//8. Oblicz medianę zarobków poszczególnych osób\n",
    "\n",
    "val wndw_1 = Window.partitionBy(\"name\").orderBy(\"salary\")\n",
    "val wndw_2 = Window.partitionBy(\"name\")\n",
    "\n",
    "sh.withColumn(\"rank\", row_number().over(wndw_1))\n",
    ".withColumn(\"avg\", avg(col(\"rank\")).over(wndw_2))\n",
    ".withColumn(\"helper\", when(abs(col(\"rank\") - col(\"avg\")) < 1, col(\"salary\")).otherwise(null))\n",
    ".withColumn(\"median\", avg(col(\"helper\")).over(wndw_2)).show(30) "
   ]
  },
  {
   "cell_type": "code",
   "execution_count": 33,
   "metadata": {},
   "outputs": [
    {
     "name": "stdout",
     "output_type": "stream",
     "text": [
      "+-----+-----------------+\n",
      "| name|           median|\n",
      "+-----+-----------------+\n",
      "|Chris|          4701.88|\n",
      "| Greg|          5158.04|\n",
      "|Betty|4596.610000000001|\n",
      "|  Dan|          7306.79|\n",
      "|Alice|           3340.0|\n",
      "+-----+-----------------+\n",
      "\n"
     ]
    }
   ],
   "source": [
    "sh.groupBy(\"name\").agg(expr(\"percentile(salary, 0.5) as median\")).show()"
   ]
  },
  {
   "cell_type": "code",
   "execution_count": null,
   "metadata": {},
   "outputs": [],
   "source": []
  }
 ],
 "metadata": {
  "kernelspec": {
   "display_name": "spylon-kernel",
   "language": "scala",
   "name": "spylon-kernel"
  },
  "language_info": {
   "codemirror_mode": "text/x-scala",
   "file_extension": ".scala",
   "help_links": [
    {
     "text": "MetaKernel Magics",
     "url": "https://metakernel.readthedocs.io/en/latest/source/README.html"
    }
   ],
   "mimetype": "text/x-scala",
   "name": "scala",
   "pygments_lexer": "scala",
   "version": "0.4.1"
  }
 },
 "nbformat": 4,
 "nbformat_minor": 4
}
